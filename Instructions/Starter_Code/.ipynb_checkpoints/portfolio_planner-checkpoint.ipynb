{
 "cells": [
  {
   "cell_type": "code",
   "execution_count": 50,
   "metadata": {},
   "outputs": [],
   "source": [
    "import numpy as np\n",
    "import pandas as pd\n",
    "import os\n",
    "from datetime import datetime, timedelta\n",
    "import matplotlib.pyplot as plt\n",
    "import alpaca_trade_api as tradeapi\n",
    "%matplotlib inline"
   ]
  },
  {
   "cell_type": "code",
   "execution_count": 51,
   "metadata": {},
   "outputs": [],
   "source": [
    "np.random.seed(42)"
   ]
  },
  {
   "cell_type": "markdown",
   "metadata": {},
   "source": [
    "# Portfolio Planner\n",
    "\n",
    "In this activity, you will use the iexfinance api to grab historical data for a 60/40 portfolio using `SPY` to represent the stock portion and `AGG` to represent the bonds."
   ]
  },
  {
   "cell_type": "code",
   "execution_count": 52,
   "metadata": {},
   "outputs": [],
   "source": [
    "from dotenv import load_dotenv\n",
    "load_dotenv()\n",
    "alpaca_api_key = os.getenv(\"ALPACA_API_KEY\")\n",
    "alpaca_secret_key = os.getenv(\"ALPACA_SECRET_KEY\")\n",
    "\n",
    "api = tradeapi.REST(alpaca_api_key, alpaca_secret_key, api_version='v2')"
   ]
  },
  {
   "cell_type": "markdown",
   "metadata": {},
   "source": [
    "# Data Collection\n",
    "\n",
    "In this step, you will need to use the IEX api to fetch closing prices for the `SPY` and `AGG` tickers. Save the results as a pandas DataFrame"
   ]
  },
  {
   "cell_type": "code",
   "execution_count": 53,
   "metadata": {},
   "outputs": [
    {
     "data": {
      "text/html": [
       "<div>\n",
       "<style scoped>\n",
       "    .dataframe tbody tr th:only-of-type {\n",
       "        vertical-align: middle;\n",
       "    }\n",
       "\n",
       "    .dataframe tbody tr th {\n",
       "        vertical-align: top;\n",
       "    }\n",
       "\n",
       "    .dataframe thead tr th {\n",
       "        text-align: left;\n",
       "    }\n",
       "\n",
       "    .dataframe thead tr:last-of-type th {\n",
       "        text-align: right;\n",
       "    }\n",
       "</style>\n",
       "<table border=\"1\" class=\"dataframe\">\n",
       "  <thead>\n",
       "    <tr>\n",
       "      <th></th>\n",
       "      <th colspan=\"5\" halign=\"left\">AGG</th>\n",
       "      <th colspan=\"5\" halign=\"left\">SPY</th>\n",
       "    </tr>\n",
       "    <tr>\n",
       "      <th></th>\n",
       "      <th>open</th>\n",
       "      <th>high</th>\n",
       "      <th>low</th>\n",
       "      <th>close</th>\n",
       "      <th>volume</th>\n",
       "      <th>open</th>\n",
       "      <th>high</th>\n",
       "      <th>low</th>\n",
       "      <th>close</th>\n",
       "      <th>volume</th>\n",
       "    </tr>\n",
       "    <tr>\n",
       "      <th>time</th>\n",
       "      <th></th>\n",
       "      <th></th>\n",
       "      <th></th>\n",
       "      <th></th>\n",
       "      <th></th>\n",
       "      <th></th>\n",
       "      <th></th>\n",
       "      <th></th>\n",
       "      <th></th>\n",
       "      <th></th>\n",
       "    </tr>\n",
       "  </thead>\n",
       "  <tbody>\n",
       "    <tr>\n",
       "      <td>2019-11-15 00:00:00-05:00</td>\n",
       "      <td>112.46</td>\n",
       "      <td>112.4600</td>\n",
       "      <td>112.380</td>\n",
       "      <td>112.4100</td>\n",
       "      <td>3961721</td>\n",
       "      <td>311.02</td>\n",
       "      <td>311.83</td>\n",
       "      <td>310.26</td>\n",
       "      <td>311.82</td>\n",
       "      <td>42549412</td>\n",
       "    </tr>\n",
       "    <tr>\n",
       "      <td>2019-11-18 00:00:00-05:00</td>\n",
       "      <td>112.56</td>\n",
       "      <td>112.6460</td>\n",
       "      <td>112.520</td>\n",
       "      <td>112.5950</td>\n",
       "      <td>5550696</td>\n",
       "      <td>311.53</td>\n",
       "      <td>312.28</td>\n",
       "      <td>311.03</td>\n",
       "      <td>312.00</td>\n",
       "      <td>40559312</td>\n",
       "    </tr>\n",
       "    <tr>\n",
       "      <td>2019-11-19 00:00:00-05:00</td>\n",
       "      <td>112.63</td>\n",
       "      <td>112.7600</td>\n",
       "      <td>112.600</td>\n",
       "      <td>112.7100</td>\n",
       "      <td>2181200</td>\n",
       "      <td>312.68</td>\n",
       "      <td>312.69</td>\n",
       "      <td>311.22</td>\n",
       "      <td>311.91</td>\n",
       "      <td>56892505</td>\n",
       "    </tr>\n",
       "    <tr>\n",
       "      <td>2019-11-20 00:00:00-05:00</td>\n",
       "      <td>112.83</td>\n",
       "      <td>112.9800</td>\n",
       "      <td>112.805</td>\n",
       "      <td>112.9700</td>\n",
       "      <td>3218845</td>\n",
       "      <td>311.28</td>\n",
       "      <td>311.85</td>\n",
       "      <td>309.06</td>\n",
       "      <td>310.79</td>\n",
       "      <td>62833225</td>\n",
       "    </tr>\n",
       "    <tr>\n",
       "      <td>2019-11-21 00:00:00-05:00</td>\n",
       "      <td>112.80</td>\n",
       "      <td>112.8859</td>\n",
       "      <td>112.720</td>\n",
       "      <td>112.8131</td>\n",
       "      <td>3971410</td>\n",
       "      <td>310.89</td>\n",
       "      <td>311.01</td>\n",
       "      <td>309.39</td>\n",
       "      <td>310.29</td>\n",
       "      <td>42497606</td>\n",
       "    </tr>\n",
       "  </tbody>\n",
       "</table>\n",
       "</div>"
      ],
      "text/plain": [
       "                              AGG                                        \\\n",
       "                             open      high      low     close   volume   \n",
       "time                                                                      \n",
       "2019-11-15 00:00:00-05:00  112.46  112.4600  112.380  112.4100  3961721   \n",
       "2019-11-18 00:00:00-05:00  112.56  112.6460  112.520  112.5950  5550696   \n",
       "2019-11-19 00:00:00-05:00  112.63  112.7600  112.600  112.7100  2181200   \n",
       "2019-11-20 00:00:00-05:00  112.83  112.9800  112.805  112.9700  3218845   \n",
       "2019-11-21 00:00:00-05:00  112.80  112.8859  112.720  112.8131  3971410   \n",
       "\n",
       "                              SPY                                    \n",
       "                             open    high     low   close    volume  \n",
       "time                                                                 \n",
       "2019-11-15 00:00:00-05:00  311.02  311.83  310.26  311.82  42549412  \n",
       "2019-11-18 00:00:00-05:00  311.53  312.28  311.03  312.00  40559312  \n",
       "2019-11-19 00:00:00-05:00  312.68  312.69  311.22  311.91  56892505  \n",
       "2019-11-20 00:00:00-05:00  311.28  311.85  309.06  310.79  62833225  \n",
       "2019-11-21 00:00:00-05:00  310.89  311.01  309.39  310.29  42497606  "
      ]
     },
     "execution_count": 53,
     "metadata": {},
     "output_type": "execute_result"
    }
   ],
   "source": [
    "tickers = [\"SPY\", \"AGG\"]\n",
    "timeframe = '1D'\n",
    "end_date = datetime.now()\n",
    "start_date = end_date + timedelta(-365)\n",
    "# YOUR CODE HERE\n",
    "df = api.get_barset(\n",
    "    tickers,\n",
    "    timeframe,\n",
    "    limit=None,\n",
    "    start=start_date,\n",
    "    end=end_date,\n",
    "    after=None,\n",
    "    until=None,\n",
    ").df\n",
    "df.head()"
   ]
  },
  {
   "cell_type": "code",
   "execution_count": 54,
   "metadata": {},
   "outputs": [
    {
     "data": {
      "text/html": [
       "<div>\n",
       "<style scoped>\n",
       "    .dataframe tbody tr th:only-of-type {\n",
       "        vertical-align: middle;\n",
       "    }\n",
       "\n",
       "    .dataframe tbody tr th {\n",
       "        vertical-align: top;\n",
       "    }\n",
       "\n",
       "    .dataframe thead tr th {\n",
       "        text-align: left;\n",
       "    }\n",
       "\n",
       "    .dataframe thead tr:last-of-type th {\n",
       "        text-align: right;\n",
       "    }\n",
       "</style>\n",
       "<table border=\"1\" class=\"dataframe\">\n",
       "  <thead>\n",
       "    <tr>\n",
       "      <th></th>\n",
       "      <th>AGG</th>\n",
       "      <th>SPY</th>\n",
       "    </tr>\n",
       "    <tr>\n",
       "      <th></th>\n",
       "      <th>close</th>\n",
       "      <th>close</th>\n",
       "    </tr>\n",
       "    <tr>\n",
       "      <th>time</th>\n",
       "      <th></th>\n",
       "      <th></th>\n",
       "    </tr>\n",
       "  </thead>\n",
       "  <tbody>\n",
       "    <tr>\n",
       "      <td>2019-11-15 00:00:00-05:00</td>\n",
       "      <td>112.4100</td>\n",
       "      <td>311.82</td>\n",
       "    </tr>\n",
       "    <tr>\n",
       "      <td>2019-11-18 00:00:00-05:00</td>\n",
       "      <td>112.5950</td>\n",
       "      <td>312.00</td>\n",
       "    </tr>\n",
       "    <tr>\n",
       "      <td>2019-11-19 00:00:00-05:00</td>\n",
       "      <td>112.7100</td>\n",
       "      <td>311.91</td>\n",
       "    </tr>\n",
       "    <tr>\n",
       "      <td>2019-11-20 00:00:00-05:00</td>\n",
       "      <td>112.9700</td>\n",
       "      <td>310.79</td>\n",
       "    </tr>\n",
       "    <tr>\n",
       "      <td>2019-11-21 00:00:00-05:00</td>\n",
       "      <td>112.8131</td>\n",
       "      <td>310.29</td>\n",
       "    </tr>\n",
       "  </tbody>\n",
       "</table>\n",
       "</div>"
      ],
      "text/plain": [
       "                                AGG     SPY\n",
       "                              close   close\n",
       "time                                       \n",
       "2019-11-15 00:00:00-05:00  112.4100  311.82\n",
       "2019-11-18 00:00:00-05:00  112.5950  312.00\n",
       "2019-11-19 00:00:00-05:00  112.7100  311.91\n",
       "2019-11-20 00:00:00-05:00  112.9700  310.79\n",
       "2019-11-21 00:00:00-05:00  112.8131  310.29"
      ]
     },
     "execution_count": 54,
     "metadata": {},
     "output_type": "execute_result"
    }
   ],
   "source": [
    "df.drop(columns=['open', 'high', 'low', 'volume'], level=1, inplace=True)\n",
    "df.head()"
   ]
  },
  {
   "cell_type": "code",
   "execution_count": null,
   "metadata": {
    "collapsed": true,
    "jupyter": {
     "outputs_hidden": true
    }
   },
   "outputs": [],
   "source": []
  },
  {
   "cell_type": "markdown",
   "metadata": {},
   "source": [
    "# Monte Carlo Simulation\n",
    "\n",
    "In this step, you will run Monte Carlo Simulations for your portfolio to model portfolio performance at different retirement ages. \n",
    "\n",
    "Complete the following steps:\n",
    "1. Calculate the daily returns for the SPY and AGG closing prices.\n",
    "2. Calculate volatility for both the SPY and AGG closing prices.\n",
    "3. Find the last day's closing price for both stocks and save those as variables.\n",
    "4. Run a Monte Carlo Simulation of at least 500 iterations and generate at least 30 years of closing prices\n",
    "\n",
    "### HINTS:\n",
    "There are 252 trading days per year, so the number of records to generate for each Monte Carlo run will be 252 days * 30 years"
   ]
  },
  {
   "cell_type": "code",
   "execution_count": 55,
   "metadata": {},
   "outputs": [],
   "source": [
    "# Calculate the daily roi for the stocks\n",
    "daily_roi = df.pct_change().dropna()\n",
    "daily_roi_AGG = daily_roi.mean()['AGG']['close']\n",
    "daily_roi_SPY = daily_roi.mean()['SPY']['close']\n",
    "# YOUR CODE HERE"
   ]
  },
  {
   "cell_type": "code",
   "execution_count": 63,
   "metadata": {},
   "outputs": [],
   "source": [
    "# Calculate volatility\n",
    "std_daily_roi_AGG = daily_roi.std()['AGG']['close']\n",
    "std_daily_roi_SPY = daily_roi.std()['SPY']['close']\n",
    "\n",
    "\n",
    "# YOUR CODE HERE"
   ]
  },
  {
   "cell_type": "code",
   "execution_count": 64,
   "metadata": {},
   "outputs": [],
   "source": [
    "# Save the last day's closing price\n",
    "last_price_AGG = df['AGG']['close'][-1]\n",
    "last_price_SPY = df['SPY']['close'][-1]\n",
    "# YOUR CODE HERE"
   ]
  },
  {
   "cell_type": "code",
   "execution_count": 67,
   "metadata": {},
   "outputs": [],
   "source": [
    "# Setup the Monte Carlo Parameters\n",
    "number_simulations = 500\n",
    "number_records = 252 * 30\n",
    "monte_carlo = pd.DataFrame()\n",
    "monte_cumulative_returns = pd.DataFrame()"
   ]
  },
  {
   "cell_type": "code",
   "execution_count": 68,
   "metadata": {},
   "outputs": [
    {
     "data": {
      "text/html": [
       "<div>\n",
       "<style scoped>\n",
       "    .dataframe tbody tr th:only-of-type {\n",
       "        vertical-align: middle;\n",
       "    }\n",
       "\n",
       "    .dataframe tbody tr th {\n",
       "        vertical-align: top;\n",
       "    }\n",
       "\n",
       "    .dataframe thead th {\n",
       "        text-align: right;\n",
       "    }\n",
       "</style>\n",
       "<table border=\"1\" class=\"dataframe\">\n",
       "  <thead>\n",
       "    <tr style=\"text-align: right;\">\n",
       "      <th></th>\n",
       "      <th>0</th>\n",
       "      <th>1</th>\n",
       "      <th>2</th>\n",
       "      <th>3</th>\n",
       "      <th>4</th>\n",
       "      <th>5</th>\n",
       "      <th>6</th>\n",
       "      <th>7</th>\n",
       "      <th>8</th>\n",
       "      <th>9</th>\n",
       "      <th>...</th>\n",
       "      <th>490</th>\n",
       "      <th>491</th>\n",
       "      <th>492</th>\n",
       "      <th>493</th>\n",
       "      <th>494</th>\n",
       "      <th>495</th>\n",
       "      <th>496</th>\n",
       "      <th>497</th>\n",
       "      <th>498</th>\n",
       "      <th>499</th>\n",
       "    </tr>\n",
       "  </thead>\n",
       "  <tbody>\n",
       "    <tr>\n",
       "      <td>0</td>\n",
       "      <td>1.000000</td>\n",
       "      <td>1.000000</td>\n",
       "      <td>1.000000</td>\n",
       "      <td>1.000000</td>\n",
       "      <td>1.000000</td>\n",
       "      <td>1.000000</td>\n",
       "      <td>1.000000</td>\n",
       "      <td>1.000000</td>\n",
       "      <td>1.000000</td>\n",
       "      <td>1.000000</td>\n",
       "      <td>...</td>\n",
       "      <td>1.000000</td>\n",
       "      <td>1.000000</td>\n",
       "      <td>1.000000</td>\n",
       "      <td>1.000000</td>\n",
       "      <td>1.000000</td>\n",
       "      <td>1.000000</td>\n",
       "      <td>1.000000</td>\n",
       "      <td>1.000000</td>\n",
       "      <td>1.000000</td>\n",
       "      <td>1.000000</td>\n",
       "    </tr>\n",
       "    <tr>\n",
       "      <td>1</td>\n",
       "      <td>1.005335</td>\n",
       "      <td>0.996778</td>\n",
       "      <td>1.000106</td>\n",
       "      <td>1.015687</td>\n",
       "      <td>0.984120</td>\n",
       "      <td>0.984953</td>\n",
       "      <td>0.992075</td>\n",
       "      <td>0.987774</td>\n",
       "      <td>1.029878</td>\n",
       "      <td>0.980150</td>\n",
       "      <td>...</td>\n",
       "      <td>1.008631</td>\n",
       "      <td>0.995700</td>\n",
       "      <td>1.009107</td>\n",
       "      <td>1.035198</td>\n",
       "      <td>1.008801</td>\n",
       "      <td>0.970746</td>\n",
       "      <td>1.020625</td>\n",
       "      <td>0.990890</td>\n",
       "      <td>0.999521</td>\n",
       "      <td>1.042637</td>\n",
       "    </tr>\n",
       "    <tr>\n",
       "      <td>2</td>\n",
       "      <td>0.982752</td>\n",
       "      <td>0.986136</td>\n",
       "      <td>0.999496</td>\n",
       "      <td>1.018121</td>\n",
       "      <td>0.986532</td>\n",
       "      <td>1.004572</td>\n",
       "      <td>0.986934</td>\n",
       "      <td>0.992637</td>\n",
       "      <td>1.042060</td>\n",
       "      <td>0.970992</td>\n",
       "      <td>...</td>\n",
       "      <td>1.025971</td>\n",
       "      <td>0.993951</td>\n",
       "      <td>1.014956</td>\n",
       "      <td>1.017098</td>\n",
       "      <td>0.966153</td>\n",
       "      <td>1.000802</td>\n",
       "      <td>1.026418</td>\n",
       "      <td>0.970975</td>\n",
       "      <td>1.031746</td>\n",
       "      <td>1.058913</td>\n",
       "    </tr>\n",
       "    <tr>\n",
       "      <td>3</td>\n",
       "      <td>1.008270</td>\n",
       "      <td>0.971546</td>\n",
       "      <td>0.990866</td>\n",
       "      <td>1.032403</td>\n",
       "      <td>0.967538</td>\n",
       "      <td>1.031883</td>\n",
       "      <td>1.006769</td>\n",
       "      <td>0.958682</td>\n",
       "      <td>1.054151</td>\n",
       "      <td>0.980806</td>\n",
       "      <td>...</td>\n",
       "      <td>1.028912</td>\n",
       "      <td>1.029246</td>\n",
       "      <td>1.045971</td>\n",
       "      <td>1.040673</td>\n",
       "      <td>0.970552</td>\n",
       "      <td>1.029565</td>\n",
       "      <td>1.027785</td>\n",
       "      <td>0.966325</td>\n",
       "      <td>1.022018</td>\n",
       "      <td>1.043133</td>\n",
       "    </tr>\n",
       "    <tr>\n",
       "      <td>4</td>\n",
       "      <td>1.046986</td>\n",
       "      <td>0.986224</td>\n",
       "      <td>1.004124</td>\n",
       "      <td>1.046646</td>\n",
       "      <td>0.959382</td>\n",
       "      <td>0.981723</td>\n",
       "      <td>0.984675</td>\n",
       "      <td>0.967884</td>\n",
       "      <td>1.057711</td>\n",
       "      <td>1.000003</td>\n",
       "      <td>...</td>\n",
       "      <td>1.016194</td>\n",
       "      <td>1.031966</td>\n",
       "      <td>1.053514</td>\n",
       "      <td>1.020995</td>\n",
       "      <td>0.962746</td>\n",
       "      <td>1.012421</td>\n",
       "      <td>1.016544</td>\n",
       "      <td>0.930791</td>\n",
       "      <td>1.035925</td>\n",
       "      <td>1.012572</td>\n",
       "    </tr>\n",
       "  </tbody>\n",
       "</table>\n",
       "<p>5 rows × 500 columns</p>\n",
       "</div>"
      ],
      "text/plain": [
       "        0         1         2         3         4         5         6    \\\n",
       "0  1.000000  1.000000  1.000000  1.000000  1.000000  1.000000  1.000000   \n",
       "1  1.005335  0.996778  1.000106  1.015687  0.984120  0.984953  0.992075   \n",
       "2  0.982752  0.986136  0.999496  1.018121  0.986532  1.004572  0.986934   \n",
       "3  1.008270  0.971546  0.990866  1.032403  0.967538  1.031883  1.006769   \n",
       "4  1.046986  0.986224  1.004124  1.046646  0.959382  0.981723  0.984675   \n",
       "\n",
       "        7         8         9    ...       490       491       492       493  \\\n",
       "0  1.000000  1.000000  1.000000  ...  1.000000  1.000000  1.000000  1.000000   \n",
       "1  0.987774  1.029878  0.980150  ...  1.008631  0.995700  1.009107  1.035198   \n",
       "2  0.992637  1.042060  0.970992  ...  1.025971  0.993951  1.014956  1.017098   \n",
       "3  0.958682  1.054151  0.980806  ...  1.028912  1.029246  1.045971  1.040673   \n",
       "4  0.967884  1.057711  1.000003  ...  1.016194  1.031966  1.053514  1.020995   \n",
       "\n",
       "        494       495       496       497       498       499  \n",
       "0  1.000000  1.000000  1.000000  1.000000  1.000000  1.000000  \n",
       "1  1.008801  0.970746  1.020625  0.990890  0.999521  1.042637  \n",
       "2  0.966153  1.000802  1.026418  0.970975  1.031746  1.058913  \n",
       "3  0.970552  1.029565  1.027785  0.966325  1.022018  1.043133  \n",
       "4  0.962746  1.012421  1.016544  0.930791  1.035925  1.012572  \n",
       "\n",
       "[5 rows x 500 columns]"
      ]
     },
     "execution_count": 68,
     "metadata": {},
     "output_type": "execute_result"
    }
   ],
   "source": [
    "# Run the Monte Carlo Simulation\n",
    "for x in range(number_simulations):\n",
    "    \n",
    "    simulated_AGG_prices = [last_price_AGG]\n",
    "    simulated_SPY_prices = [last_price_SPY]\n",
    "    \n",
    "    for i in range(number_records):\n",
    "        AGG_simulated_price = simulated_AGG_prices[-1] * (1 + np.random.normal(daily_roi_AGG, std_daily_roi_AGG))\n",
    "        simulated_AGG_prices.append(AGG_simulated_price)\n",
    "        SPY_simulated_price = simulated_SPY_prices[-1] * (1 + np.random.normal(daily_roi_SPY, std_daily_roi_SPY))\n",
    "        simulated_SPY_prices.append(SPY_simulated_price)\n",
    "        \n",
    "    monte_carlo[\"AGG prices\"] = pd.Series(simulated_AGG_prices)\n",
    "    monte_carlo[\"SPY prices\"] = pd.Series(simulated_SPY_prices)\n",
    "    \n",
    "    monte_carlo_daily_roi = monte_carlo.pct_change()\n",
    "    weights = [0.40, 0.60]\n",
    "    \n",
    "    portfolio_monte_carlo_daily_roi = monte_carlo_daily_roi.dot(weights)\n",
    "    \n",
    "    monte_cumulative_returns[x] = (1 + portfolio_monte_carlo_daily_roi.fillna(0)).cumprod()\n",
    "\n",
    "\n",
    "monte_cumulative_returns.head()       \n",
    "        \n",
    "    \n",
    "    \n",
    "    # YOUR CODE HERE\n"
   ]
  },
  {
   "cell_type": "code",
   "execution_count": null,
   "metadata": {},
   "outputs": [],
   "source": []
  },
  {
   "cell_type": "code",
   "execution_count": 70,
   "metadata": {},
   "outputs": [
    {
     "data": {
      "text/plain": [
       "<matplotlib.axes._subplots.AxesSubplot at 0xbcfb88de08>"
      ]
     },
     "execution_count": 70,
     "metadata": {},
     "output_type": "execute_result"
    },
    {
     "data": {
      "image/png": "[encoded data removed]",
      "text/plain": [
       "<Figure size 432x288 with 1 Axes>"
      ]
     },
     "metadata": {
      "needs_background": "light"
     },
     "output_type": "display_data"
    }
   ],
   "source": [
    "# Visualize the Simulation\n",
    "monte_cumulative_returns.plot(legend=None, title=\"Monte Carlo\")\n",
    "# YOUR CODE HERE"
   ]
  },
  {
   "cell_type": "code",
   "execution_count": 71,
   "metadata": {},
   "outputs": [
    {
     "data": {
      "text/plain": [
       "0    0.035003\n",
       "1    0.033997\n",
       "2    0.004317\n",
       "3    0.090413\n",
       "4    0.004586\n",
       "Name: 7560, dtype: float64"
      ]
     },
     "execution_count": 71,
     "metadata": {},
     "output_type": "execute_result"
    }
   ],
   "source": [
    "# Select the last row for the cumulative returns (cumulative returns at 30 years)\n",
    "end_monte_cum_returns = monte_cumulative_returns.iloc[-1, :]\n",
    "end_monte_cum_returns.head()\n",
    "# YOUR CODE HERE"
   ]
  },
  {
   "cell_type": "code",
   "execution_count": 72,
   "metadata": {},
   "outputs": [
    {
     "data": {
      "text/plain": [
       "0    0.138065\n",
       "1    0.040544\n",
       "2    0.013233\n",
       "3    0.196982\n",
       "4    0.029254\n",
       "Name: 5040, dtype: float64"
      ]
     },
     "execution_count": 72,
     "metadata": {},
     "output_type": "execute_result"
    }
   ],
   "source": [
    "# Select the last row for the cumulative returns (cumulative returns at 20 years)\n",
    "twenty_monte_cum_returns = monte_cumulative_returns.iloc[5040, :]\n",
    "twenty_monte_cum_returns.head()\n",
    "# YOUR CODE HERE"
   ]
  },
  {
   "cell_type": "code",
   "execution_count": 75,
   "metadata": {},
   "outputs": [
    {
     "data": {
      "text/plain": [
       "0.05    0.003197\n",
       "0.95    0.590951\n",
       "Name: 7560, dtype: float64"
      ]
     },
     "execution_count": 75,
     "metadata": {},
     "output_type": "execute_result"
    }
   ],
   "source": [
    "# Display the 90% confidence interval for the ending returns\n",
    "confidence_interval = end_monte_cum_returns.quantile(q=[0.05, 0.95])\n",
    "confidence_interval\n",
    "# YOUR CODE HERE"
   ]
  },
  {
   "cell_type": "code",
   "execution_count": 82,
   "metadata": {},
   "outputs": [
    {
     "data": {
      "text/plain": [
       "<matplotlib.lines.Line2D at 0xbcf76ea048>"
      ]
     },
     "execution_count": 82,
     "metadata": {},
     "output_type": "execute_result"
    },
    {
     "data": {
      "image/png": "[encoded data removed]",
      "text/plain": [
       "<Figure size 432x288 with 1 Axes>"
      ]
     },
     "metadata": {
      "needs_background": "light"
     },
     "output_type": "display_data"
    }
   ],
   "source": [
    "# Visualize the distribution of the ending returns\n",
    "end_monte_cum_returns.plot(kind='hist', bins=10, density=True)\n",
    "plt.axvline(confidence_interval.iloc[0], color='r')\n",
    "plt.axvline(confidence_interval.iloc[1], color='r')\n",
    "# YOUR CODE HERE"
   ]
  },
  {
   "cell_type": "markdown",
   "metadata": {},
   "source": [
    "---"
   ]
  },
  {
   "cell_type": "markdown",
   "metadata": {},
   "source": [
    "# Retirement Analysis\n",
    "\n",
    "In this section, you will use the monte carlo model to answer the following retirement planning questions:\n",
    "\n",
    "1. What are the expected cumulative returns at 30 years for the 10th, 50th, and 90th percentiles?\n",
    "2. Given an initial investment of `$20,000`, what is the expected portfolio return in dollars at the 10th, 50th, and 90th percentiles?\n",
    "3. Given the current projected annual income from the Plaid analysis, will a 4% withdraw rate from the retirement portfolio meet or exceed that value at the 10th percentile?\n",
    "4. How would a 50% increase in the initial investment amount affect the 4% retirement withdrawal?"
   ]
  },
  {
   "cell_type": "markdown",
   "metadata": {},
   "source": [
    "### What are the expected cumulative returns at 30 years for the 10th, 50th, and 90th percentiles?"
   ]
  },
  {
   "cell_type": "code",
   "execution_count": 77,
   "metadata": {},
   "outputs": [
    {
     "name": "stdout",
     "output_type": "stream",
     "text": [
      "Expected cumulative portfolio return at 30 years for the 10th % is 0.01.\n",
      "Expected cumulative portfolio return at 30 years for the 50th % is 0.05.\n",
      "Expected cumulative portfolio return at 30 years for the 90th % is 0.33.\n"
     ]
    }
   ],
   "source": [
    "# YOUR CODE HERE\n",
    "print(f\"Expected cumulative portfolio return at 30 years for the 10th % is {round(np.percentile(end_monte_cum_returns,10),2)}.\")\n",
    "print(f\"Expected cumulative portfolio return at 30 years for the 50th % is {round(np.percentile(end_monte_cum_returns,50),2)}.\")\n",
    "print(f\"Expected cumulative portfolio return at 30 years for the 90th % is {round(np.percentile(end_monte_cum_returns,90),2)}.\")"
   ]
  },
  {
   "cell_type": "markdown",
   "metadata": {},
   "source": [
    "### Given an initial investment of `$20,000`, what is the expected portfolio return in dollars at the 10th, 50th, and 90th percentiles?"
   ]
  },
  {
   "cell_type": "code",
   "execution_count": 86,
   "metadata": {},
   "outputs": [
    {
     "name": "stdout",
     "output_type": "stream",
     "text": [
      "20200.0\n",
      "1000.0\n",
      "6600.0\n"
     ]
    }
   ],
   "source": [
    "# YOUR CODE HERE\n",
    "initial_investment = 20000\n",
    "cumulative_pnl = initial_investment * end_monte_cum_returns\n",
    "return_at_10 = (1 + round(np.percentile(end_monte_cum_returns,10),2)) * initial_investment\n",
    "return_at_50 = round(np.percentile(end_monte_cum_returns,50),2) * initial_investment\n",
    "return_at_90 = round(np.percentile(end_monte_cum_returns,90),2) * initial_investment\n",
    "print(return_at_10)\n",
    "print(return_at_50)\n",
    "print(return_at_90)"
   ]
  },
  {
   "cell_type": "markdown",
   "metadata": {},
   "source": [
    "### Given the current projected annual income from the Plaid analysis, will a 4% withdraw rate from the retirement portfolio meet or exceed that value at the 10th percentile?\n",
    "\n",
    "Note: This is effectively saying that 90% of the expected returns will be greater than the return at the 10th percentile, so this can help measure the uncertainty about having enough funds at retirement"
   ]
  },
  {
   "cell_type": "code",
   "execution_count": 87,
   "metadata": {},
   "outputs": [
    {
     "name": "stdout",
     "output_type": "stream",
     "text": [
      "4% withdraw is not sufficient to cover the projected annual income\n"
     ]
    }
   ],
   "source": [
    "# YOUR CODE HERE\n",
    "withdrawal = 0.04*(round(np.percentile(cumulative_pnl,10),2))\n",
    "projected_yearly_income=7389\n",
    "if withdrawal >= projected_yearly_income:\n",
    "    print(\"4% withdraw is sufficient to cover the projected annual income\")\n",
    "else:\n",
    "    print(\"4% withdraw is not sufficient to cover the projected annual income\")"
   ]
  },
  {
   "cell_type": "markdown",
   "metadata": {},
   "source": [
    "### How would a 50% increase in the initial investment amount affect the 4% retirement withdrawal?"
   ]
  },
  {
   "cell_type": "code",
   "execution_count": 89,
   "metadata": {},
   "outputs": [
    {
     "name": "stdout",
     "output_type": "stream",
     "text": [
      "4% withdraw is not sufficient to cover the projected annual income\n"
     ]
    }
   ],
   "source": [
    "# YOUR CODE HERE\n",
    "bigger_investment = (1.50) * initial_investment\n",
    "new_cum_pnl = end_monte_cum_returns * bigger_investment\n",
    "new_withdrawal = 0.04*(round(np.percentile(new_cum_pnl,10),2))\n",
    "projected_yearly_income=7389\n",
    "if new_withdrawal >= projected_yearly_income:\n",
    "    print(\"4% withdraw is sufficient to cover the projected annual income\")\n",
    "else:\n",
    "    print(\"4% withdraw is not sufficient to cover the projected annual income\")"
   ]
  },
  {
   "cell_type": "markdown",
   "metadata": {},
   "source": [
    "### Optional Challenge\n",
    "\n",
    "In this section, you will calculate and plot the cumulative returns for the median and 90% confidence intervals. This plot shows the expected cumulative returns for any given day between the first day and the last day of investment. "
   ]
  },
  {
   "cell_type": "code",
   "execution_count": null,
   "metadata": {},
   "outputs": [],
   "source": [
    "# YOUR CODE HERE"
   ]
  }
 ],
 "metadata": {
  "kernel_info": {
   "name": "dev"
  },
  "kernelspec": {
   "display_name": "Python 3",
   "language": "python",
   "name": "python3"
  },
  "language_info": {
   "codemirror_mode": {
    "name": "ipython",
    "version": 3
   },
   "file_extension": ".py",
   "mimetype": "text/x-python",
   "name": "python",
   "nbconvert_exporter": "python",
   "pygments_lexer": "ipython3",
   "version": "3.7.4"
  },
  "nteract": {
   "version": "0.12.3"
  }
 },
 "nbformat": 4,
 "nbformat_minor": 4
}
